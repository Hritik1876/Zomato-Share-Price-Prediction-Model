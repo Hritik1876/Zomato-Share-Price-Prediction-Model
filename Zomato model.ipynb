{
 "cells": [
  {
   "cell_type": "code",
   "execution_count": 1,
   "id": "1dbd5eed",
   "metadata": {},
   "outputs": [],
   "source": [
    "import pandas as pd\n",
    "import numpy as np\n",
    "import matplotlib.pyplot as plt\n",
    "from sklearn import linear_model"
   ]
  },
  {
   "cell_type": "code",
   "execution_count": 2,
   "id": "1af49d69",
   "metadata": {},
   "outputs": [
    {
     "data": {
      "text/html": [
       "<div>\n",
       "<style scoped>\n",
       "    .dataframe tbody tr th:only-of-type {\n",
       "        vertical-align: middle;\n",
       "    }\n",
       "\n",
       "    .dataframe tbody tr th {\n",
       "        vertical-align: top;\n",
       "    }\n",
       "\n",
       "    .dataframe thead th {\n",
       "        text-align: right;\n",
       "    }\n",
       "</style>\n",
       "<table border=\"1\" class=\"dataframe\">\n",
       "  <thead>\n",
       "    <tr style=\"text-align: right;\">\n",
       "      <th></th>\n",
       "      <th>Date</th>\n",
       "      <th>Open</th>\n",
       "      <th>High</th>\n",
       "      <th>Low</th>\n",
       "      <th>Close</th>\n",
       "      <th>Adj Close</th>\n",
       "      <th>Volume</th>\n",
       "    </tr>\n",
       "  </thead>\n",
       "  <tbody>\n",
       "    <tr>\n",
       "      <th>0</th>\n",
       "      <td>2021-10-11</td>\n",
       "      <td>137.500000</td>\n",
       "      <td>137.500000</td>\n",
       "      <td>136.149994</td>\n",
       "      <td>136.850006</td>\n",
       "      <td>136.850006</td>\n",
       "      <td>4395523</td>\n",
       "    </tr>\n",
       "    <tr>\n",
       "      <th>1</th>\n",
       "      <td>2021-10-12</td>\n",
       "      <td>137.300003</td>\n",
       "      <td>137.750000</td>\n",
       "      <td>135.500000</td>\n",
       "      <td>136.600006</td>\n",
       "      <td>136.600006</td>\n",
       "      <td>5600652</td>\n",
       "    </tr>\n",
       "    <tr>\n",
       "      <th>2</th>\n",
       "      <td>2021-10-13</td>\n",
       "      <td>137.250000</td>\n",
       "      <td>137.399994</td>\n",
       "      <td>134.350006</td>\n",
       "      <td>135.449997</td>\n",
       "      <td>135.449997</td>\n",
       "      <td>6351349</td>\n",
       "    </tr>\n",
       "    <tr>\n",
       "      <th>3</th>\n",
       "      <td>2021-10-14</td>\n",
       "      <td>135.899994</td>\n",
       "      <td>137.300003</td>\n",
       "      <td>133.699997</td>\n",
       "      <td>135.000000</td>\n",
       "      <td>135.000000</td>\n",
       "      <td>8688177</td>\n",
       "    </tr>\n",
       "    <tr>\n",
       "      <th>4</th>\n",
       "      <td>2021-10-18</td>\n",
       "      <td>136.000000</td>\n",
       "      <td>146.149994</td>\n",
       "      <td>135.899994</td>\n",
       "      <td>144.050003</td>\n",
       "      <td>144.050003</td>\n",
       "      <td>31446800</td>\n",
       "    </tr>\n",
       "    <tr>\n",
       "      <th>...</th>\n",
       "      <td>...</td>\n",
       "      <td>...</td>\n",
       "      <td>...</td>\n",
       "      <td>...</td>\n",
       "      <td>...</td>\n",
       "      <td>...</td>\n",
       "      <td>...</td>\n",
       "    </tr>\n",
       "    <tr>\n",
       "      <th>242</th>\n",
       "      <td>2022-09-30</td>\n",
       "      <td>61.500000</td>\n",
       "      <td>62.849998</td>\n",
       "      <td>59.750000</td>\n",
       "      <td>62.349998</td>\n",
       "      <td>62.349998</td>\n",
       "      <td>71494895</td>\n",
       "    </tr>\n",
       "    <tr>\n",
       "      <th>243</th>\n",
       "      <td>2022-10-03</td>\n",
       "      <td>62.000000</td>\n",
       "      <td>63.099998</td>\n",
       "      <td>61.200001</td>\n",
       "      <td>61.900002</td>\n",
       "      <td>61.900002</td>\n",
       "      <td>44528871</td>\n",
       "    </tr>\n",
       "    <tr>\n",
       "      <th>244</th>\n",
       "      <td>2022-10-04</td>\n",
       "      <td>63.099998</td>\n",
       "      <td>64.449997</td>\n",
       "      <td>63.000000</td>\n",
       "      <td>64.050003</td>\n",
       "      <td>64.050003</td>\n",
       "      <td>47077008</td>\n",
       "    </tr>\n",
       "    <tr>\n",
       "      <th>245</th>\n",
       "      <td>2022-10-06</td>\n",
       "      <td>64.400002</td>\n",
       "      <td>66.150002</td>\n",
       "      <td>64.250000</td>\n",
       "      <td>65.550003</td>\n",
       "      <td>65.550003</td>\n",
       "      <td>59866072</td>\n",
       "    </tr>\n",
       "    <tr>\n",
       "      <th>246</th>\n",
       "      <td>2022-10-07</td>\n",
       "      <td>65.150002</td>\n",
       "      <td>70.199997</td>\n",
       "      <td>64.599998</td>\n",
       "      <td>69.550003</td>\n",
       "      <td>69.550003</td>\n",
       "      <td>170879536</td>\n",
       "    </tr>\n",
       "  </tbody>\n",
       "</table>\n",
       "<p>247 rows × 7 columns</p>\n",
       "</div>"
      ],
      "text/plain": [
       "           Date        Open        High         Low       Close   Adj Close  \\\n",
       "0    2021-10-11  137.500000  137.500000  136.149994  136.850006  136.850006   \n",
       "1    2021-10-12  137.300003  137.750000  135.500000  136.600006  136.600006   \n",
       "2    2021-10-13  137.250000  137.399994  134.350006  135.449997  135.449997   \n",
       "3    2021-10-14  135.899994  137.300003  133.699997  135.000000  135.000000   \n",
       "4    2021-10-18  136.000000  146.149994  135.899994  144.050003  144.050003   \n",
       "..          ...         ...         ...         ...         ...         ...   \n",
       "242  2022-09-30   61.500000   62.849998   59.750000   62.349998   62.349998   \n",
       "243  2022-10-03   62.000000   63.099998   61.200001   61.900002   61.900002   \n",
       "244  2022-10-04   63.099998   64.449997   63.000000   64.050003   64.050003   \n",
       "245  2022-10-06   64.400002   66.150002   64.250000   65.550003   65.550003   \n",
       "246  2022-10-07   65.150002   70.199997   64.599998   69.550003   69.550003   \n",
       "\n",
       "        Volume  \n",
       "0      4395523  \n",
       "1      5600652  \n",
       "2      6351349  \n",
       "3      8688177  \n",
       "4     31446800  \n",
       "..         ...  \n",
       "242   71494895  \n",
       "243   44528871  \n",
       "244   47077008  \n",
       "245   59866072  \n",
       "246  170879536  \n",
       "\n",
       "[247 rows x 7 columns]"
      ]
     },
     "execution_count": 2,
     "metadata": {},
     "output_type": "execute_result"
    }
   ],
   "source": [
    "df=pd.read_csv(r\"C:\\Users\\hriti\\Downloads\\ZOMATO.NS.csv\")\n",
    "df"
   ]
  },
  {
   "cell_type": "code",
   "execution_count": 6,
   "id": "29e5fb3d",
   "metadata": {},
   "outputs": [
    {
     "data": {
      "text/plain": [
       "<matplotlib.collections.PathCollection at 0x26cc5157640>"
      ]
     },
     "execution_count": 6,
     "metadata": {},
     "output_type": "execute_result"
    },
    {
     "data": {
      "image/png": "[encoded data removed]",
      "text/plain": [
       "<Figure size 432x288 with 1 Axes>"
      ]
     },
     "metadata": {
      "needs_background": "light"
     },
     "output_type": "display_data"
    }
   ],
   "source": [
    "%matplotlib inline\n",
    "plt.xlabel('Date(Date)')\n",
    "plt.ylabel('High(High)')\n",
    "plt.scatter(df.Date, df['High'], color='blue', marker='+')"
   ]
  },
  {
   "cell_type": "code",
   "execution_count": 23,
   "id": "9b83f1d7",
   "metadata": {},
   "outputs": [],
   "source": [
    "x=df[[\"High\"]]\n",
    "y=df['Date']"
   ]
  },
  {
   "cell_type": "code",
   "execution_count": 24,
   "id": "ceb06dc0",
   "metadata": {},
   "outputs": [
    {
     "data": {
      "text/plain": [
       "LinearRegression()"
      ]
     },
     "execution_count": 24,
     "metadata": {},
     "output_type": "execute_result"
    }
   ],
   "source": [
    "\n",
    "reg=linear_model.LinearRegression()\n",
    "reg.fit(x,y)"
   ]
  },
  {
   "cell_type": "code",
   "execution_count": 27,
   "id": "d6fd036c",
   "metadata": {},
   "outputs": [
    {
     "name": "stderr",
     "output_type": "stream",
     "text": [
      "C:\\ProgramData\\Anaconda3\\lib\\site-packages\\sklearn\\base.py:450: UserWarning: X does not have valid feature names, but LinearRegression was fitted with feature names\n",
      "  warnings.warn(\n"
     ]
    },
    {
     "data": {
      "text/plain": [
       "array([20031936.61810101])"
      ]
     },
     "execution_count": 27,
     "metadata": {},
     "output_type": "execute_result"
    }
   ],
   "source": [
    "reg.predict([[2022-10-22]])"
   ]
  },
  {
   "cell_type": "code",
   "execution_count": null,
   "id": "641fb93e",
   "metadata": {},
   "outputs": [],
   "source": []
  }
 ],
 "metadata": {
  "kernelspec": {
   "display_name": "Python 3 (ipykernel)",
   "language": "python",
   "name": "python3"
  },
  "language_info": {
   "codemirror_mode": {
    "name": "ipython",
    "version": 3
   },
   "file_extension": ".py",
   "mimetype": "text/x-python",
   "name": "python",
   "nbconvert_exporter": "python",
   "pygments_lexer": "ipython3",
   "version": "3.9.12"
  }
 },
 "nbformat": 4,
 "nbformat_minor": 5
}
